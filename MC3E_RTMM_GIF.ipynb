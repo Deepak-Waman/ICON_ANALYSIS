{
 "cells": [
  {
   "cell_type": "code",
   "execution_count": 1,
   "id": "437f8105-7998-4cbd-8546-1a9c88eaa900",
   "metadata": {
    "tags": []
   },
   "outputs": [
    {
     "name": "stderr",
     "output_type": "stream",
     "text": [
      "/tmp/ipykernel_3336310/3592599898.py:27: DeprecationWarning: Starting with ImageIO v3 the behavior of this function will switch to that of iio.v3.imread. To keep the current behavior (and make this warning disappear) use `import imageio.v2 as imageio` or call `imageio.v2.imread` directly.\n",
      "  image = imageio.imread(filename)\n"
     ]
    },
    {
     "name": "stdout",
     "output_type": "stream",
     "text": [
      "Animated GIF created successfully!\n"
     ]
    }
   ],
   "source": [
    "import os\n",
    "import datetime\n",
    "import imageio\n",
    "\n",
    "# Define the path to the directory containing the images\n",
    "image_dir = '/work/bb1163/b382718/output/mc3e/observations/rtmm_nextrad_images'\n",
    "\n",
    "# Define the start and end times for the animation\n",
    "start_time = datetime.datetime(2011, 5, 11, 15, 5, 0)\n",
    "end_time = datetime.datetime(2011, 5, 11, 19, 40, 0)\n",
    "\n",
    "# Get the list of image files within the specified time range\n",
    "image_files = []\n",
    "for root, dirs, files in os.walk(image_dir):\n",
    "    for file in files:\n",
    "        if file.endswith('.png'):\n",
    "            file_time = datetime.datetime.strptime(file[:19], '%Y-%m-%d_%H-%M-%S')\n",
    "            if start_time <= file_time <= end_time:\n",
    "                image_files.append(os.path.join(root, file))\n",
    "\n",
    "# Sort the image files based on their timestamps\n",
    "image_files.sort()\n",
    "\n",
    "# Create an animated GIF\n",
    "with imageio.get_writer('animated.gif', mode='I') as writer:\n",
    "    for filename in image_files:\n",
    "        image = imageio.imread(filename)\n",
    "        writer.append_data(image)\n",
    "\n",
    "print(\"Animated GIF created successfully!\")\n"
   ]
  },
  {
   "cell_type": "code",
   "execution_count": null,
   "id": "9f3ac89f-1bac-4296-b42a-b13d4399d743",
   "metadata": {},
   "outputs": [],
   "source": []
  },
  {
   "cell_type": "code",
   "execution_count": null,
   "id": "aa8aee78-61c6-419d-acf2-11f98a66c4c7",
   "metadata": {},
   "outputs": [],
   "source": []
  },
  {
   "cell_type": "code",
   "execution_count": 2,
   "id": "26b80ad8-88c3-42c3-8b87-4fe8127d8d55",
   "metadata": {
    "tags": []
   },
   "outputs": [
    {
     "name": "stderr",
     "output_type": "stream",
     "text": [
      "/tmp/ipykernel_3336310/605231311.py:32: DeprecationWarning: Starting with ImageIO v3 the behavior of this function will switch to that of iio.v3.imread. To keep the current behavior (and make this warning disappear) use `import imageio.v2 as imageio` or call `imageio.v2.imread` directly.\n",
      "  image = imageio.imread(filename)\n"
     ]
    },
    {
     "name": "stdout",
     "output_type": "stream",
     "text": [
      "Animated GIF created successfully at: /work/bb1163/b382718/output/mc3e/observations/rtmm_nextrad_images/animated_gifs/animated.gif\n"
     ]
    }
   ],
   "source": [
    "import os\n",
    "import datetime\n",
    "import imageio\n",
    "\n",
    "# Define the path to the directory containing the images\n",
    "image_dir = '/work/bb1163/b382718/output/mc3e/observations/rtmm_nextrad_images'\n",
    "\n",
    "# Define the start and end times for the animation\n",
    "start_time = datetime.datetime(2011, 5, 11, 15, 5, 0)\n",
    "end_time = datetime.datetime(2011, 5, 11, 19, 40, 0)\n",
    "\n",
    "# Get the list of image files within the specified time range\n",
    "image_files = []\n",
    "for root, dirs, files in os.walk(image_dir):\n",
    "    for file in files:\n",
    "        if file.endswith('.png'):\n",
    "            file_time = datetime.datetime.strptime(file[:19], '%Y-%m-%d_%H-%M-%S')\n",
    "            if start_time <= file_time <= end_time:\n",
    "                image_files.append(os.path.join(root, file))\n",
    "\n",
    "# Sort the image files based on their timestamps\n",
    "image_files.sort()\n",
    "\n",
    "# Create the output directory if it doesn't exist\n",
    "output_dir = os.path.join(image_dir, 'animated_gifs')\n",
    "os.makedirs(output_dir, exist_ok=True)\n",
    "\n",
    "# Create an animated GIF\n",
    "output_file = os.path.join(output_dir, 'animated.gif')\n",
    "with imageio.get_writer(output_file, mode='I') as writer:\n",
    "    for filename in image_files:\n",
    "        image = imageio.imread(filename)\n",
    "        writer.append_data(image)\n",
    "\n",
    "print(f\"Animated GIF created successfully at: {output_file}\")\n"
   ]
  },
  {
   "cell_type": "code",
   "execution_count": null,
   "id": "34bc47a6-b5be-4218-812b-7c3b968a9a70",
   "metadata": {},
   "outputs": [],
   "source": []
  },
  {
   "cell_type": "code",
   "execution_count": null,
   "id": "1119ced3-1aa1-4f31-b994-2c7516311142",
   "metadata": {},
   "outputs": [],
   "source": []
  },
  {
   "cell_type": "code",
   "execution_count": 1,
   "id": "bfef0953-3d86-4bd8-ba5d-5c615e79f92e",
   "metadata": {
    "tags": []
   },
   "outputs": [
    {
     "name": "stderr",
     "output_type": "stream",
     "text": [
      "/tmp/ipykernel_1002395/3424907474.py:33: DeprecationWarning: Starting with ImageIO v3 the behavior of this function will switch to that of iio.v3.imread. To keep the current behavior (and make this warning disappear) use `import imageio.v2 as imageio` or call `imageio.v2.imread` directly.\n",
      "  image = imageio.imread(filename)\n"
     ]
    },
    {
     "name": "stdout",
     "output_type": "stream",
     "text": [
      "Animated GIF created successfully at: /work/bb1163/b382718/ICON_ANALYSIS/mc3e/plots/rtmm_gifs/mc3e_rtmm_11may_150500_194000.gif\n"
     ]
    }
   ],
   "source": [
    "import os\n",
    "import datetime\n",
    "import imageio\n",
    "\n",
    "# Define the path to the directory containing the images\n",
    "image_dir = '/work/bb1163/b382718/output/mc3e/observations/rtmm_nextrad_images'\n",
    "out_dir = '/work/bb1163/b382718/ICON_ANALYSIS/mc3e/plots'\n",
    "# Define the start and end times for the animation\n",
    "start_time = datetime.datetime(2011, 5, 11, 15, 5, 0)\n",
    "end_time = datetime.datetime(2011, 5, 11, 19, 40, 0)\n",
    "\n",
    "# Get the list of image files within the specified time range\n",
    "image_files = []\n",
    "for root, dirs, files in os.walk(image_dir):\n",
    "    for file in files:\n",
    "        if file.endswith('.png'):\n",
    "            file_time = datetime.datetime.strptime(file[:19], '%Y-%m-%d_%H-%M-%S')\n",
    "            if start_time <= file_time <= end_time:\n",
    "                image_files.append(os.path.join(root, file))\n",
    "\n",
    "# Sort the image files based on their timestamps\n",
    "image_files.sort()\n",
    "\n",
    "# Create the output directory if it doesn't exist\n",
    "output_dir = os.path.join(out_dir, 'rtmm_gifs')\n",
    "os.makedirs(output_dir, exist_ok=True)\n",
    "\n",
    "# Create an animated GIF with adjusted playback speed\n",
    "output_file = os.path.join(output_dir, 'mc3e_rtmm_11may_150500_194000.gif')\n",
    "fps = 1  # Frames per second (adjust this value to change playback speed)\n",
    "with imageio.get_writer(output_file, mode='I', fps=fps) as writer:\n",
    "    for filename in image_files:\n",
    "        image = imageio.imread(filename)\n",
    "        writer.append_data(image)\n",
    "\n",
    "print(f\"Animated GIF created successfully at: {output_file}\")\n"
   ]
  },
  {
   "cell_type": "code",
   "execution_count": null,
   "id": "279e63a6-9365-4662-a6bf-e8a6862ef678",
   "metadata": {},
   "outputs": [],
   "source": []
  }
 ],
 "metadata": {
  "kernelspec": {
   "display_name": "1 Python 3 (based on the module python3/2023.01)",
   "language": "python",
   "name": "python3_2023_01"
  },
  "language_info": {
   "codemirror_mode": {
    "name": "ipython",
    "version": 3
   },
   "file_extension": ".py",
   "mimetype": "text/x-python",
   "name": "python",
   "nbconvert_exporter": "python",
   "pygments_lexer": "ipython3",
   "version": "3.10.10"
  }
 },
 "nbformat": 4,
 "nbformat_minor": 5
}
