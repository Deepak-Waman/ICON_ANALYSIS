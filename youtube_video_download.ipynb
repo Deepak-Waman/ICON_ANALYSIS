{
 "cells": [
  {
   "cell_type": "code",
   "execution_count": 2,
   "id": "b2dc9991-9091-472f-a2b1-215ad31cb52d",
   "metadata": {
    "tags": []
   },
   "outputs": [
    {
     "name": "stdout",
     "output_type": "stream",
     "text": [
      "Defaulting to user installation because normal site-packages is not writeable\n",
      "Collecting pytube\n",
      "  Downloading pytube-15.0.0-py3-none-any.whl (57 kB)\n",
      "\u001b[2K     \u001b[90m━━━━━━━━━━━━━━━━━━━━━━━━━━━━━━━━━━━━━━━━\u001b[0m \u001b[32m57.6/57.6 kB\u001b[0m \u001b[31m1.9 MB/s\u001b[0m eta \u001b[36m0:00:00\u001b[0m\n",
      "\u001b[?25hInstalling collected packages: pytube\n",
      "\u001b[33m  WARNING: The script pytube is installed in '/home/b/b382718/.local/bin' which is not on PATH.\n",
      "  Consider adding this directory to PATH or, if you prefer to suppress this warning, use --no-warn-script-location.\u001b[0m\u001b[33m\n",
      "\u001b[0mSuccessfully installed pytube-15.0.0\n",
      "Note: you may need to restart the kernel to use updated packages.\n"
     ]
    }
   ],
   "source": [
    "pip install pytube"
   ]
  },
  {
   "cell_type": "code",
   "execution_count": 3,
   "id": "c6d26e97-4f1e-4c20-8f01-fdb4f0a7b36a",
   "metadata": {
    "tags": []
   },
   "outputs": [
    {
     "name": "stdout",
     "output_type": "stream",
     "text": [
      "All videos downloaded successfully!\n"
     ]
    }
   ],
   "source": [
    "from pytube import Playlist\n",
    "\n",
    "# URL of the YouTube playlist\n",
    "playlist_url = \"https://www.youtube.com/watch?v=T3PsRW6wZSY&list=PLIg1dOXc_acbdJo-AE5RXpIM_rvwrerwR\"\n",
    "\n",
    "# Directory to store downloaded videos\n",
    "download_directory = \"/work/bb1163/b382718/python_ml_lectures/Machine_learning/sudeshna_sarkar\"\n",
    "\n",
    "\n",
    "# Check if the directory exists\n",
    "if not os.path.isdir(download_directory):\n",
    "    # If it doesn't exist, create it\n",
    "    os.makedirs(download_directory)\n",
    "    \n",
    "# Initialize the playlist\n",
    "playlist = Playlist(playlist_url)\n",
    "\n",
    "# Loop through each video in the playlist and download\n",
    "for video in playlist.videos:\n",
    "    # Set the download directory for each video\n",
    "    video.streams.filter(file_extension='mp4').first().download(output_path=download_directory)\n",
    "\n",
    "print(\"All videos downloaded successfully!\")\n"
   ]
  },
  {
   "cell_type": "code",
   "execution_count": 2,
   "id": "14dabe6a-5f9b-4f16-9ee2-44dcff96d451",
   "metadata": {},
   "outputs": [
    {
     "name": "stdout",
     "output_type": "stream",
     "text": [
      "All videos downloaded successfully!\n"
     ]
    }
   ],
   "source": [
    "from pytube import Playlist\n",
    "\n",
    "# URL of the YouTube playlist\n",
    "playlist_url = \"https://www.youtube.com/watch?v=bLHqHRWUUWg&list=PLwdnzlV3ogoVDlDwuB9SLJzhaZT0tTil3\"\n",
    "\n",
    "# Directory to store downloaded videos\n",
    "download_directory = \"/work/bb1163/b382718/python_ml_lectures/Machine_learning/mk_bhuyan\"\n",
    "\n",
    "# Check if the directory exists\n",
    "if not os.path.isdir(download_directory):\n",
    "    # If it doesn't exist, create it\n",
    "    os.makedirs(download_directory)\n",
    "    \n",
    "# Initialize the playlist\n",
    "playlist = Playlist(playlist_url)\n",
    "\n",
    "# Loop through each video in the playlist and download\n",
    "for video in playlist.videos:\n",
    "    # Set the download directory for each video\n",
    "    video.streams.filter(file_extension='mp4').first().download(output_path=download_directory)\n",
    "\n",
    "print(\"All videos downloaded successfully!\")"
   ]
  },
  {
   "cell_type": "code",
   "execution_count": 1,
   "id": "987234eb-8e0d-43b8-b745-4fd3ed3c6615",
   "metadata": {
    "tags": []
   },
   "outputs": [
    {
     "name": "stdout",
     "output_type": "stream",
     "text": [
      "All videos downloaded successfully!\n"
     ]
    }
   ],
   "source": [
    "from pytube import Playlist\n",
    "import os\n",
    "\n",
    "\n",
    "# URL of the YouTube playlist\n",
    "playlist_url = \"https://www.youtube.com/watch?v=8ndsDXohLMQ&list=PLDsnL5pk7-N_9oy2RN4A65Z-PEnvtc7rf\"\n",
    "\n",
    "# Directory to store downloaded videos\n",
    "download_directory = \"/work/bb1163/b382718/python_ml_lectures/Python/Iyengar\"\n",
    "\n",
    "# Check if the directory exists\n",
    "if not os.path.isdir(download_directory):\n",
    "    # If it doesn't exist, create it\n",
    "    os.makedirs(download_directory)\n",
    "\n",
    "# Initialize the playlist\n",
    "playlist = Playlist(playlist_url)\n",
    "\n",
    "# Loop through each video in the playlist and download\n",
    "for video in playlist.videos:\n",
    "    # Set the download directory for each video\n",
    "    video.streams.filter(file_extension='mp4').first().download(output_path=download_directory)\n",
    "\n",
    "print(\"All videos downloaded successfully!\")"
   ]
  },
  {
   "cell_type": "code",
   "execution_count": 4,
   "id": "6dc4692b-6d76-4cc6-ac75-74a29b8bd399",
   "metadata": {
    "tags": []
   },
   "outputs": [
    {
     "ename": "AgeRestrictedError",
     "evalue": "G6Bd6tJ9ft0 is age restricted, and can't be accessed without logging in.",
     "output_type": "error",
     "traceback": [
      "\u001b[0;31m---------------------------------------------------------------------------\u001b[0m",
      "\u001b[0;31mAgeRestrictedError\u001b[0m                        Traceback (most recent call last)",
      "Cell \u001b[0;32mIn[4], line 22\u001b[0m\n\u001b[1;32m     19\u001b[0m \u001b[38;5;66;03m# Loop through each video in the playlist and download\u001b[39;00m\n\u001b[1;32m     20\u001b[0m \u001b[38;5;28;01mfor\u001b[39;00m video \u001b[38;5;129;01min\u001b[39;00m playlist\u001b[38;5;241m.\u001b[39mvideos:\n\u001b[1;32m     21\u001b[0m     \u001b[38;5;66;03m# Set the download directory for each video\u001b[39;00m\n\u001b[0;32m---> 22\u001b[0m     \u001b[43mvideo\u001b[49m\u001b[38;5;241;43m.\u001b[39;49m\u001b[43mstreams\u001b[49m\u001b[38;5;241m.\u001b[39mfilter(file_extension\u001b[38;5;241m=\u001b[39m\u001b[38;5;124m'\u001b[39m\u001b[38;5;124mmp4\u001b[39m\u001b[38;5;124m'\u001b[39m)\u001b[38;5;241m.\u001b[39mfirst()\u001b[38;5;241m.\u001b[39mdownload(output_path\u001b[38;5;241m=\u001b[39mdownload_directory)\n\u001b[1;32m     24\u001b[0m \u001b[38;5;28mprint\u001b[39m(\u001b[38;5;124m\"\u001b[39m\u001b[38;5;124mAll videos downloaded successfully!\u001b[39m\u001b[38;5;124m\"\u001b[39m)\n",
      "File \u001b[0;32m~/.local/lib/python3.10/site-packages/pytube/__main__.py:296\u001b[0m, in \u001b[0;36mYouTube.streams\u001b[0;34m(self)\u001b[0m\n\u001b[1;32m    291\u001b[0m \u001b[38;5;250m\u001b[39m\u001b[38;5;124;03m\"\"\"Interface to query both adaptive (DASH) and progressive streams.\u001b[39;00m\n\u001b[1;32m    292\u001b[0m \n\u001b[1;32m    293\u001b[0m \u001b[38;5;124;03m:rtype: :class:`StreamQuery <StreamQuery>`.\u001b[39;00m\n\u001b[1;32m    294\u001b[0m \u001b[38;5;124;03m\"\"\"\u001b[39;00m\n\u001b[1;32m    295\u001b[0m \u001b[38;5;28mself\u001b[39m\u001b[38;5;241m.\u001b[39mcheck_availability()\n\u001b[0;32m--> 296\u001b[0m \u001b[38;5;28;01mreturn\u001b[39;00m StreamQuery(\u001b[38;5;28;43mself\u001b[39;49m\u001b[38;5;241;43m.\u001b[39;49m\u001b[43mfmt_streams\u001b[49m)\n",
      "File \u001b[0;32m~/.local/lib/python3.10/site-packages/pytube/__main__.py:176\u001b[0m, in \u001b[0;36mYouTube.fmt_streams\u001b[0;34m(self)\u001b[0m\n\u001b[1;32m    172\u001b[0m     \u001b[38;5;28;01mreturn\u001b[39;00m \u001b[38;5;28mself\u001b[39m\u001b[38;5;241m.\u001b[39m_fmt_streams\n\u001b[1;32m    174\u001b[0m \u001b[38;5;28mself\u001b[39m\u001b[38;5;241m.\u001b[39m_fmt_streams \u001b[38;5;241m=\u001b[39m []\n\u001b[0;32m--> 176\u001b[0m stream_manifest \u001b[38;5;241m=\u001b[39m extract\u001b[38;5;241m.\u001b[39mapply_descrambler(\u001b[38;5;28;43mself\u001b[39;49m\u001b[38;5;241;43m.\u001b[39;49m\u001b[43mstreaming_data\u001b[49m)\n\u001b[1;32m    178\u001b[0m \u001b[38;5;66;03m# If the cached js doesn't work, try fetching a new js file\u001b[39;00m\n\u001b[1;32m    179\u001b[0m \u001b[38;5;66;03m# https://github.com/pytube/pytube/issues/1054\u001b[39;00m\n\u001b[1;32m    180\u001b[0m \u001b[38;5;28;01mtry\u001b[39;00m:\n",
      "File \u001b[0;32m~/.local/lib/python3.10/site-packages/pytube/__main__.py:160\u001b[0m, in \u001b[0;36mYouTube.streaming_data\u001b[0;34m(self)\u001b[0m\n\u001b[1;32m    158\u001b[0m     \u001b[38;5;28;01mreturn\u001b[39;00m \u001b[38;5;28mself\u001b[39m\u001b[38;5;241m.\u001b[39mvid_info[\u001b[38;5;124m'\u001b[39m\u001b[38;5;124mstreamingData\u001b[39m\u001b[38;5;124m'\u001b[39m]\n\u001b[1;32m    159\u001b[0m \u001b[38;5;28;01melse\u001b[39;00m:\n\u001b[0;32m--> 160\u001b[0m     \u001b[38;5;28;43mself\u001b[39;49m\u001b[38;5;241;43m.\u001b[39;49m\u001b[43mbypass_age_gate\u001b[49m\u001b[43m(\u001b[49m\u001b[43m)\u001b[49m\n\u001b[1;32m    161\u001b[0m     \u001b[38;5;28;01mreturn\u001b[39;00m \u001b[38;5;28mself\u001b[39m\u001b[38;5;241m.\u001b[39mvid_info[\u001b[38;5;124m'\u001b[39m\u001b[38;5;124mstreamingData\u001b[39m\u001b[38;5;124m'\u001b[39m]\n",
      "File \u001b[0;32m~/.local/lib/python3.10/site-packages/pytube/__main__.py:264\u001b[0m, in \u001b[0;36mYouTube.bypass_age_gate\u001b[0;34m(self)\u001b[0m\n\u001b[1;32m    261\u001b[0m \u001b[38;5;66;03m# If we still can't access the video, raise an exception\u001b[39;00m\n\u001b[1;32m    262\u001b[0m \u001b[38;5;66;03m# (tier 3 age restriction)\u001b[39;00m\n\u001b[1;32m    263\u001b[0m \u001b[38;5;28;01mif\u001b[39;00m playability_status \u001b[38;5;241m==\u001b[39m \u001b[38;5;124m'\u001b[39m\u001b[38;5;124mUNPLAYABLE\u001b[39m\u001b[38;5;124m'\u001b[39m:\n\u001b[0;32m--> 264\u001b[0m     \u001b[38;5;28;01mraise\u001b[39;00m exceptions\u001b[38;5;241m.\u001b[39mAgeRestrictedError(\u001b[38;5;28mself\u001b[39m\u001b[38;5;241m.\u001b[39mvideo_id)\n\u001b[1;32m    266\u001b[0m \u001b[38;5;28mself\u001b[39m\u001b[38;5;241m.\u001b[39m_vid_info \u001b[38;5;241m=\u001b[39m innertube_response\n",
      "\u001b[0;31mAgeRestrictedError\u001b[0m: G6Bd6tJ9ft0 is age restricted, and can't be accessed without logging in."
     ]
    }
   ],
   "source": [
    "\n",
    "\n",
    "from pytube import Playlist\n",
    "import os\n",
    "\n",
    "\n",
    "# URL of the YouTube playlist\n",
    "playlist_url = \"https://www.youtube.com/watch?v=6i3EGqOBRiU&list=PLdo5W4Nhv31bZSiqiOL5ta39vSnBxpOPT\"\n",
    "\n",
    "# Directory to store downloaded videos\n",
    "download_directory = \"/work/bb1163/b382718/python_ml_lectures/Python/Jenny\"\n",
    "\n",
    "# Check if the directory exists\n",
    "if not os.path.isdir(download_directory):\n",
    "    # If it doesn't exist, create it\n",
    "    os.makedirs(download_directory)\n",
    "\n",
    "# Initialize the playlist\n",
    "playlist = Playlist(playlist_url)\n",
    "\n",
    "# Loop through each video in the playlist and download\n",
    "for video in playlist.videos:\n",
    "    # Set the download directory for each video\n",
    "    video.streams.filter(file_extension='mp4').first().download(output_path=download_directory)\n",
    "\n",
    "print(\"All videos downloaded successfully!\")"
   ]
  },
  {
   "cell_type": "code",
   "execution_count": null,
   "id": "9a77d0a1-5fb7-4d7d-9855-9fa5773110a4",
   "metadata": {},
   "outputs": [],
   "source": []
  }
 ],
 "metadata": {
  "kernelspec": {
   "display_name": "1 Python 3 (based on the module python3/2023.01)",
   "language": "python",
   "name": "python3_2023_01"
  },
  "language_info": {
   "codemirror_mode": {
    "name": "ipython",
    "version": 3
   },
   "file_extension": ".py",
   "mimetype": "text/x-python",
   "name": "python",
   "nbconvert_exporter": "python",
   "pygments_lexer": "ipython3",
   "version": "3.10.10"
  }
 },
 "nbformat": 4,
 "nbformat_minor": 5
}
